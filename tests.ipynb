{
 "cells": [
  {
   "cell_type": "markdown",
   "id": "b2eba6e6-32de-42d1-9661-9f5394bec5d5",
   "metadata": {},
   "source": [
    "# RSA+OAEP vs ElGamal vs ECC-ElGamal Benchmarks"
   ]
  },
  {
   "cell_type": "markdown",
   "id": "4ab4a1c7-f321-47e2-95de-c3410a586633",
   "metadata": {},
   "source": [
    "- Device: Dell XPS 15 9570 2018\n",
    "- OS: UBUNTU 20.04 (stable)\n",
    "- Memory: 16GiB System Memory, 2x 8GiB SODIMM DDR4 Synchronous 2667 MHz\n",
    "- Cache: L1 cache -> 384KiB, L2 cache -> 1536KiB, L3 cache -> 9Mib\n",
    "- Processor: Intel(R) Core(TM) i7-8750H CPU @ 2.20GHz, 6 Cores, 12 threads\n",
    "- Graphic Card: Integrated -> UHD Graphics 630 Mobile, Discrete -> GeForce GTX 1050 Ti Mobile"
   ]
  },
  {
   "cell_type": "markdown",
   "id": "95b9f3fe-a376-488b-abfc-cfa7f81b61dc",
   "metadata": {},
   "source": [
    "## Imports"
   ]
  },
  {
   "cell_type": "code",
   "execution_count": 1,
   "id": "4e267f7a-f21a-49ba-8074-4826f5e14787",
   "metadata": {},
   "outputs": [],
   "source": [
    "import sys\n",
    "import time\n",
    "import warnings\n",
    "from pathlib import Path\n",
    "\n",
    "path = Path.cwd().resolve()\n",
    "warnings.filterwarnings(\"ignore\")"
   ]
  },
  {
   "cell_type": "code",
   "execution_count": 2,
   "id": "123b77ff-7303-4758-9621-6f3d9b8d46ce",
   "metadata": {},
   "outputs": [
    {
     "name": "stderr",
     "output_type": "stream",
     "text": [
      "WARNING:root:pynvml not found you can't use NVIDIA devices\n"
     ]
    }
   ],
   "source": [
    "import plotly.graph_objects as px\n",
    "from pyinstrument import Profiler as pyProfiler\n",
    "\n",
    "pyProfiler = pyProfiler()\n",
    "\n",
    "import psutil\n",
    "from pyJoules.device import DeviceFactory\n",
    "from pyJoules.device.rapl_device import RaplCoreDomain\n",
    "from pyJoules.energy_meter import EnergyMeter\n",
    "\n",
    "device = DeviceFactory.create_devices([RaplCoreDomain(0)])\n",
    "meter = EnergyMeter(device)\n",
    "\n",
    "%load_ext memory_profiler"
   ]
  },
  {
   "cell_type": "code",
   "execution_count": 3,
   "id": "a733ec5e-9cbf-4739-a5f8-33c07647fff9",
   "metadata": {},
   "outputs": [],
   "source": [
    "from rsa import rsa\n",
    "\n",
    "sys.path.append(\"/home/apollo/Desktop/DJSCE/Projects/css_research/ecc_elgamal\")\n",
    "from ecc_elgamal import elgamal as ecc_elg\n",
    "from ecc_elgamal.cipher.curve import (E222, E382, M383, P256, Curve25519,\n",
    "                                      secp256k1)\n",
    "\n",
    "sys.path.append(\"/home/apollo/Desktop/DJSCE/Projects/css_research/norm_elgamal\")\n",
    "\n",
    "from norm_elgamal import elgamal as norm_elg"
   ]
  },
  {
   "cell_type": "code",
   "execution_count": 4,
   "id": "de71ebe0-f6bd-47aa-8ffc-133fc0c490d6",
   "metadata": {},
   "outputs": [],
   "source": [
    "wall_time, mem_use, cpu_use, power_consumed, similarity = [], [], [], [], []\n",
    "\n",
    "key_sizes = [1024, 2048, 3072, 4096]\n",
    "message_sizes = [1, 8, 64, 512, 4096]\n",
    "messages = [\n",
    "    b\"At.\",\n",
    "    b\"Vivamus.\",\n",
    "    b\"Lorem ipsum dolor sit amet, consectetur adipiscing elit vivamus.\",\n",
    "    b\"Lorem ipsum dolor sit amet, consectetur adipiscing elit. Sed eu nibh accumsan, pretium lorem sed, fermentum eros. Proin mi massa, hendrerit et bibendum vel, pulvinar eu turpis. Donec vel gravida ipsum, in vehicula odio. Integer non mi tincidunt, pulvinar urna id, gravida ante. Nullam accumsan ac odio eget bibendum. Cras rhoncus turpis et orci imperdiet, facilisis facilisis purus dignissim. Cras pretium sapien sit amet velit condimentum eleifend. Vestibulum consequat metus neque, nec pretium ex tincidunt at.\",\n",
    "    b\"Lorem ipsum dolor sit amet, consectetur adipiscing elit. Integer dignissim eros velit, tristique ultrices sem vestibulum id. Nunc sit amet cursus nulla. Morbi eget nibh dolor. Vestibulum mattis purus nec blandit tristique. Ut libero lacus, vestibulum nec imperdiet vel, ullamcorper et dolor. Quisque fringilla interdum pulvinar. Nulla eleifend nisi quam, ac pellentesque metus blandit in. Suspendisse potenti. Vivamus mattis neque ultricies, tincidunt neque vel, vulputate orci. Morbi ultrices bibendum enim ac vehicula. Mauris in luctus mauris, sit amet lacinia dui. Mauris in urna a est sagittis pretium quis consequat erat. Maecenas tincidunt convallis sem elementum auctor. Morbi arcu nibh, semper eget sollicitudin a, vestibulum sed erat. Quisque posuere magna vitae massa sodales dignissim. Nullam finibus, neque mattis pellentesque faucibus, mi orci iaculis arcu, vitae venenatis elit libero vitae sem. Phasellus elementum neque sit amet nibh condimentum malesuada. Morbi fermentum sapien dui, eget posuere lorem eleifend non. Pellentesque a diam lacinia tellus rutrum tincidunt vel tristique turpis. Sed tempor scelerisque odio, eu scelerisque mi tincidunt ac. Sed pulvinar leo vel massa volutpat, vitae dignissim lacus condimentum. Aenean elementum urna ac magna iaculis dapibus. Quisque libero leo, mollis et neque quis, scelerisque tincidunt ex. In facilisis leo lacus, sit amet viverra metus auctor vel. Sed bibendum porttitor accumsan. Duis iaculis dignissim enim, vitae ornare enim. Phasellus quis blandit nisi. Curabitur at turpis nec velit molestie mollis id in massa. Maecenas laoreet cursus nibh volutpat accumsan. Donec cursus tristique neque, at vulputate mauris posuere sit amet. Vestibulum eu leo at augue hendrerit malesuada non vitae erat. Quisque justo nunc, consectetur et rutrum et, lacinia commodo dui. Aenean eget eros a metus sollicitudin vestibulum. Nam convallis turpis augue, in varius libero iaculis nec. In tincidunt neque ac neque rhoncus tristique. In a tellus feugiat, tincidunt elit eget, pulvinar nibh. Nullam in nisi nulla. Duis iaculis, ante at dapibus vulputate, lorem massa venenatis ipsum, ut eleifend est leo vitae sem. Ut faucibus eros ut tincidunt vulputate. Donec rhoncus, enim sed imperdiet vestibulum, augue ante vulputate ante, sit amet ornare eros nisi ac velit. Curabitur finibus consectetur velit, vel viverra risus vestibulum sagittis. Praesent pellentesque nulla et ipsum mattis, quis sodales ante rutrum. Aliquam erat volutpat. Interdum et malesuada fames ac ante ipsum primis in faucibus. Vestibulum vitae urna id mauris facilisis ultricies. Proin tempor libero nulla, ac vestibulum augue tincidunt at. In aliquet, nisl vel eleifend fermentum, ligula tortor fermentum lorem, in malesuada ex nunc at mauris. Sed ac auctor enim. Nunc placerat convallis urna interdum commodo. Nulla facilisi. Fusce quis mattis nibh. Sed porttitor placerat bibendum. Praesent aliquet nisl ac nibh interdum molestie. Maecenas non magna a sem porttitor porta sed sed augue. Phasellus eu vulputate est, quis ultricies leo. Vivamus condimentum nec neque sed finibus. Vestibulum ante ipsum primis in faucibus orci luctus et ultrices posuere cubilia curae; Fusce eget arcu lorem. Phasellus vestibulum porta sapien tincidunt congue. Morbi in vehicula ante. Nam eu fringilla augue. Curabitur posuere, orci vitae consequat placerat, risus est condimentum tortor, sed vulputate diam justo in lacus. Sed tempor, magna et finibus aliquam, mauris leo efficitur felis, eget laoreet erat ex quis libero. Cras luctus, elit non scelerisque dapibus, purus dui suscipit tellus, vel posuere ligula velit ac sem. Vivamus tincidunt mauris nec iaculis luctus. Integer venenatis erat in nisi tempor pretium. Proin nec consequat felis. Aliquam interdum non enim non eleifend. Phasellus at nulla blandit eros lacinia tempor sit amet euismod nisi. Mauris ut maximus libero. Fusce tristique tincidunt maximus. Nullam dignissim scelerisque mi eget ultricies. Donec lectus velit, hendrerit et dolor fringilla, rutrum aliquet risus. In aliquam quam et porta pharetra. In ut leo quis dolor orci.\",\n",
    "]"
   ]
  },
  {
   "cell_type": "markdown",
   "id": "f45070c0-4c13-4568-af8b-53b0e722f4e3",
   "metadata": {},
   "source": [
    "<br>"
   ]
  },
  {
   "cell_type": "markdown",
   "id": "1b1ac7ed-5d46-497f-9700-c560e60f041b",
   "metadata": {},
   "source": [
    "## Testing Helper Functions"
   ]
  },
  {
   "cell_type": "code",
   "execution_count": 5,
   "id": "ea98bb17-dc82-402d-b4a9-7dc831e37ac7",
   "metadata": {},
   "outputs": [],
   "source": [
    "def doNothing(tp_time):\n",
    "    time.sleep(tp_time)"
   ]
  },
  {
   "cell_type": "code",
   "execution_count": 6,
   "id": "3155ab83-d33a-4be2-9a4f-3c7a0b86d53d",
   "metadata": {},
   "outputs": [],
   "source": [
    "# Similarity Matching using Damerau Levenshtein Distance\n",
    "def textSimilarity(s1, s2):\n",
    "    d = {}\n",
    "    lenstr1 = len(s1)\n",
    "    lenstr2 = len(s2)\n",
    "\n",
    "    for i in range(-1, lenstr1 + 1):\n",
    "        d[(i, -1)] = i + 1\n",
    "\n",
    "    for j in range(-1, lenstr2 + 1):\n",
    "        d[(-1, j)] = j + 1\n",
    "\n",
    "    for i in range(lenstr1):\n",
    "        for j in range(lenstr2):\n",
    "            if s1[i] == s2[j]:\n",
    "                cost = 0\n",
    "            else:\n",
    "                cost = 1\n",
    "\n",
    "            d[(i, j)] = min(\n",
    "                d[(i - 1, j)] + 1,  # deletion\n",
    "                d[(i, j - 1)] + 1,  # insertion\n",
    "                d[(i - 1, j - 1)] + cost,  # substitution\n",
    "            )\n",
    "\n",
    "            if i and j and s1[i] == s2[j - 1] and s1[i - 1] == s2[j]:\n",
    "                d[(i, j)] = min(d[(i, j)], d[i - 2, j - 2] + cost)  # transposition\n",
    "\n",
    "    return round(1 - ((d[lenstr1-1,lenstr2-1])/(lenstr1 if lenstr1 > lenstr2 else lenstr2)), 4)"
   ]
  },
  {
   "cell_type": "code",
   "execution_count": 7,
   "id": "a365c344-1126-44eb-9c5f-c2173b5846b6",
   "metadata": {},
   "outputs": [],
   "source": [
    "def drawGraph(func: list, graph_vals: list, name: str) -> None:\n",
    "    \"\"\"\n",
    "    Plots graph for function.\n",
    "\n",
    "    Parameter\n",
    "    ----------\n",
    "    func : list\n",
    "        Values obtained for params\n",
    "    graph_vals : list\n",
    "        Measurement values\n",
    "    name : str\n",
    "        Placeholder for file name\n",
    "    \"\"\"\n",
    "    fig = make_subplots(\n",
    "        rows=1,\n",
    "        cols=2,\n",
    "        subplot_titles=(\"Execution Time(in s)(log)\", \"Memory Use(in MB)(log)\"),\n",
    "    )\n",
    "\n",
    "    fig.add_trace(px.Scatter(x=graph_val, y=wall_time, name=\"Wall Time\"), row=1, col=1)\n",
    "    fig.update_yaxes(type=\"log\", row=1, col=1)\n",
    "\n",
    "    fig.add_trace(px.Scatter(x=graph_val, y=mem_use, name=\"Memory Used\"), row=1, col=2)\n",
    "    fig.update_yaxes(type=\"log\", row=1, col=2)\n",
    "\n",
    "    fig.update_layout(title_text=f\"Benchmark for {name}\")\n",
    "\n",
    "    fig.write_html(f\"./{name}/{name}_plotly.html\")\n",
    "    fig.show()\n",
    "\n",
    "    for i in range(0, len(wall_time)):\n",
    "        print(\n",
    "            f\"Counts: {graph_val[i]}, Time: {round(wall_time[i], 3)} s, Memory: {round(mem_use[i], 3)} MiB\"\n",
    "        )\n",
    "\n",
    "    func.clear()"
   ]
  },
  {
   "cell_type": "code",
   "execution_count": 8,
   "id": "43fd98f1-a262-4b87-9faf-1d4f69fbabf9",
   "metadata": {},
   "outputs": [],
   "source": [
    "def benchCode(benchFunc, *args):\n",
    "    \"\"\"\n",
    "    Generalized code for benchmarking cryptographic functions.\n",
    "\n",
    "    Parameter\n",
    "    ----------\n",
    "    benchFunc : function\n",
    "        The function to be benchmarked.\n",
    "    \"\"\"\n",
    "    curr_time = %timeit -r 5 -o -q -c -p 5 benchFunc(*args)\n",
    "    print(curr_time)\n",
    "    doNothing(5)\n",
    "    curr_mem = %memit -o -q benchFunc(*args)\n",
    "    print(curr_mem)\n",
    "    doNothing(5)\n",
    "    doNothing(5)\n",
    "    curr_cpu_use = psutil.getloadavg()[0] / psutil.cpu_count() * 100\n",
    "    print(curr_cpu_use)\n",
    "    # meter.start(tag='foo')\n",
    "    # doNothing(5)\n",
    "    # doNothing(5)\n",
    "    # meter.record(tag='bar')\n",
    "    # benchFunc(*args)\n",
    "    # meter.stop()\n",
    "    # curr_power = meter.get_trace()\n",
    "\n",
    "    plain_cipher_sim = textSimilarity(plain_text, cipher_text)\n",
    "    print(plain_cipher_sim)\n",
    "    # wall_time.append(time1.average)\n",
    "    # mem_use.append(mem1.mem_usage[0])\n",
    "\n",
    "    # del mem1, time1"
   ]
  },
  {
   "cell_type": "markdown",
   "id": "a28fb672-df22-4fde-b370-c59e50e205d9",
   "metadata": {},
   "source": [
    "<br>"
   ]
  },
  {
   "cell_type": "markdown",
   "id": "14c7e35a-f3a0-484c-8fd4-d04ef6837d5b",
   "metadata": {},
   "source": [
    "## RSA with OAEP"
   ]
  },
  {
   "cell_type": "code",
   "execution_count": 9,
   "id": "29fbecde-330d-42a5-9472-597815a01de7",
   "metadata": {},
   "outputs": [],
   "source": [
    "name = \"rsa/RSA_IP\"\n",
    "\n",
    "try:\n",
    "    dir_path = path.joinpath(name)\n",
    "    dir_path.mkdir(parents=True, exist_ok=False)\n",
    "except FileExistsError:\n",
    "    pass"
   ]
  },
  {
   "cell_type": "code",
   "execution_count": 10,
   "id": "d3ef51ea-53de-4a7b-998b-fe03fd7a3709",
   "metadata": {},
   "outputs": [
    {
     "name": "stdout",
     "output_type": "stream",
     "text": [
      "93.135 ms ± 18.306 ms per loop (mean ± std. dev. of 5 runs, 10 loops each)\n",
      "peak memory: 77.31 MiB, increment: 0.38 MiB\n",
      "8.833333333333334\n"
     ]
    },
    {
     "ename": "NameError",
     "evalue": "name 'cipher_text' is not defined",
     "output_type": "error",
     "traceback": [
      "\u001b[0;31m---------------------------------------------------------------------------\u001b[0m",
      "\u001b[0;31mNameError\u001b[0m                                 Traceback (most recent call last)",
      "\u001b[0;32m/tmp/ipykernel_93756/1921314700.py\u001b[0m in \u001b[0;36m<module>\u001b[0;34m\u001b[0m\n\u001b[1;32m      2\u001b[0m     \u001b[0;32mfor\u001b[0m \u001b[0mplain_text\u001b[0m \u001b[0;32min\u001b[0m \u001b[0mmessages\u001b[0m\u001b[0;34m:\u001b[0m\u001b[0;34m\u001b[0m\u001b[0;34m\u001b[0m\u001b[0m\n\u001b[1;32m      3\u001b[0m         \u001b[0;32mtry\u001b[0m\u001b[0;34m:\u001b[0m\u001b[0;34m\u001b[0m\u001b[0;34m\u001b[0m\u001b[0m\n\u001b[0;32m----> 4\u001b[0;31m             \u001b[0mbenchCode\u001b[0m\u001b[0;34m(\u001b[0m\u001b[0mrsa\u001b[0m\u001b[0;34m.\u001b[0m\u001b[0mcaller\u001b[0m\u001b[0;34m,\u001b[0m \u001b[0mplain_text\u001b[0m\u001b[0;34m,\u001b[0m \u001b[0mkey\u001b[0m\u001b[0;34m)\u001b[0m\u001b[0;34m\u001b[0m\u001b[0;34m\u001b[0m\u001b[0m\n\u001b[0m\u001b[1;32m      5\u001b[0m         \u001b[0;32mexcept\u001b[0m \u001b[0mValueError\u001b[0m\u001b[0;34m:\u001b[0m\u001b[0;34m\u001b[0m\u001b[0;34m\u001b[0m\u001b[0m\n\u001b[1;32m      6\u001b[0m             \u001b[0;32mpass\u001b[0m\u001b[0;34m\u001b[0m\u001b[0;34m\u001b[0m\u001b[0m\n",
      "\u001b[0;32m/tmp/ipykernel_93756/3378538762.py\u001b[0m in \u001b[0;36mbenchCode\u001b[0;34m(benchFunc, *args)\u001b[0m\n\u001b[1;32m     25\u001b[0m     \u001b[0;31m# curr_power = meter.get_trace()\u001b[0m\u001b[0;34m\u001b[0m\u001b[0;34m\u001b[0m\u001b[0m\n\u001b[1;32m     26\u001b[0m \u001b[0;34m\u001b[0m\u001b[0m\n\u001b[0;32m---> 27\u001b[0;31m     \u001b[0mplain_cipher_sim\u001b[0m \u001b[0;34m=\u001b[0m \u001b[0mtextSimilarity\u001b[0m\u001b[0;34m(\u001b[0m\u001b[0mplain_text\u001b[0m\u001b[0;34m,\u001b[0m \u001b[0mcipher_text\u001b[0m\u001b[0;34m)\u001b[0m\u001b[0;34m\u001b[0m\u001b[0;34m\u001b[0m\u001b[0m\n\u001b[0m\u001b[1;32m     28\u001b[0m     \u001b[0mprint\u001b[0m\u001b[0;34m(\u001b[0m\u001b[0mplain_cipher_sim\u001b[0m\u001b[0;34m)\u001b[0m\u001b[0;34m\u001b[0m\u001b[0;34m\u001b[0m\u001b[0m\n\u001b[1;32m     29\u001b[0m     \u001b[0;31m# wall_time.append(time1.average)\u001b[0m\u001b[0;34m\u001b[0m\u001b[0;34m\u001b[0m\u001b[0m\n",
      "\u001b[0;31mNameError\u001b[0m: name 'cipher_text' is not defined"
     ]
    }
   ],
   "source": [
    "for key in key_sizes:\n",
    "    for plain_text in messages:\n",
    "        try:\n",
    "            benchCode(rsa.caller, plain_text, key)\n",
    "        except ValueError:\n",
    "            pass\n",
    "            \n",
    "\n",
    "# drawGraph(wall_time, mem_use, name)"
   ]
  },
  {
   "cell_type": "code",
   "execution_count": null,
   "id": "69c08d67-b9f1-476a-99d6-529a606ef73b",
   "metadata": {},
   "outputs": [],
   "source": []
  },
  {
   "cell_type": "code",
   "execution_count": null,
   "id": "bd0a3692-b446-40fe-83d8-d29496d29a25",
   "metadata": {},
   "outputs": [],
   "source": []
  },
  {
   "cell_type": "code",
   "execution_count": null,
   "id": "997ad4e2-1e3a-47c0-b015-a8f263e49de1",
   "metadata": {},
   "outputs": [],
   "source": []
  },
  {
   "cell_type": "code",
   "execution_count": null,
   "id": "87ac3fbe-df96-4ddb-9b75-697f5b771ce3",
   "metadata": {},
   "outputs": [],
   "source": []
  },
  {
   "cell_type": "code",
   "execution_count": null,
   "id": "5c15bfb2-eb36-49aa-9cec-6857bdf2aa90",
   "metadata": {},
   "outputs": [],
   "source": []
  },
  {
   "cell_type": "code",
   "execution_count": null,
   "id": "8008a348-22a0-4d4a-a9d0-b820b17b5e96",
   "metadata": {},
   "outputs": [],
   "source": []
  },
  {
   "cell_type": "code",
   "execution_count": null,
   "id": "6bce9d28-5d2d-4092-b6ff-3d423357ba1a",
   "metadata": {},
   "outputs": [],
   "source": []
  },
  {
   "cell_type": "code",
   "execution_count": null,
   "id": "4db817e0-9ea1-4f1c-9222-34307bdc4316",
   "metadata": {},
   "outputs": [],
   "source": []
  },
  {
   "cell_type": "code",
   "execution_count": null,
   "id": "28b33361-67c5-4f09-8022-40a17255fbe1",
   "metadata": {},
   "outputs": [],
   "source": []
  },
  {
   "cell_type": "code",
   "execution_count": null,
   "id": "a0c1fd5f-83ca-45e1-8a5c-29b2f90a0809",
   "metadata": {},
   "outputs": [],
   "source": []
  }
 ],
 "metadata": {
  "kernelspec": {
   "display_name": "Python 3 (ipykernel)",
   "language": "python",
   "name": "python3"
  },
  "language_info": {
   "codemirror_mode": {
    "name": "ipython",
    "version": 3
   },
   "file_extension": ".py",
   "mimetype": "text/x-python",
   "name": "python",
   "nbconvert_exporter": "python",
   "pygments_lexer": "ipython3",
   "version": "3.9.7"
  }
 },
 "nbformat": 4,
 "nbformat_minor": 5
}
