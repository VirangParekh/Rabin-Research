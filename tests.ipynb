{
 "cells": [
  {
   "cell_type": "markdown",
   "id": "b2eba6e6-32de-42d1-9661-9f5394bec5d5",
   "metadata": {},
   "source": [
    "# RSA+OAEP vs ElGamal vs ECC-ElGamal Benchmarks"
   ]
  },
  {
   "cell_type": "markdown",
   "id": "4ab4a1c7-f321-47e2-95de-c3410a586633",
   "metadata": {},
   "source": [
    "- Device: Dell XPS 15 9570 2018\n",
    "- OS: UBUNTU 20.04 (stable)\n",
    "- Memory: 16GiB System Memory, 2x 8GiB SODIMM DDR4 Synchronous 2667 MHz\n",
    "- Cache: L1 cache -> 384KiB, L2 cache -> 1536KiB, L3 cache -> 9Mib\n",
    "- Processor: Intel(R) Core(TM) i7-8750H CPU @ 2.20GHz, 6 Cores, 12 threads\n",
    "- Graphic Card: Integrated -> UHD Graphics 630 Mobile, Discrete -> GeForce GTX 1050 Ti Mobile"
   ]
  },
  {
   "cell_type": "markdown",
   "id": "95b9f3fe-a376-488b-abfc-cfa7f81b61dc",
   "metadata": {},
   "source": [
    "## Imports"
   ]
  },
  {
   "cell_type": "code",
   "execution_count": null,
   "id": "4e267f7a-f21a-49ba-8074-4826f5e14787",
   "metadata": {},
   "outputs": [],
   "source": [
    "import sys\n",
    "import time\n",
    "import warnings\n",
    "from pathlib import Path\n",
    "\n",
    "path = Path.cwd().resolve()\n",
    "warnings.filterwarnings(\"ignore\")"
   ]
  },
  {
   "cell_type": "code",
   "execution_count": null,
   "id": "123b77ff-7303-4758-9621-6f3d9b8d46ce",
   "metadata": {},
   "outputs": [],
   "source": [
    "import plotly.graph_objects as px\n",
    "from pyinstrument import Profiler as pyProfiler\n",
    "\n",
    "pyProfiler = pyProfiler()\n",
    "\n",
    "import psutil\n",
    "from pyJoules.device import DeviceFactory\n",
    "from pyJoules.device.rapl_device import RaplCoreDomain\n",
    "from pyJoules.energy_meter import EnergyMeter\n",
    "\n",
    "device = DeviceFactory.create_devices([RaplCoreDomain(0)])\n",
    "meter = EnergyMeter(device)\n",
    "\n",
    "%load_ext memory_profiler"
   ]
  },
  {
   "cell_type": "code",
   "execution_count": null,
   "id": "a733ec5e-9cbf-4739-a5f8-33c07647fff9",
   "metadata": {},
   "outputs": [],
   "source": [
    "from rsa import rsa\n",
    "\n",
    "sys.path.append(\"/home/apollo/Desktop/DJSCE/Projects/css_research/ecc_elgamal\")\n",
    "from ecc_elgamal import elgamal as ecc_elg\n",
    "from ecc_elgamal.cipher.curve import (E222, E382, M383, P256, Curve25519,\n",
    "                                      secp256k1)\n",
    "\n",
    "sys.path.append(\"/home/apollo/Desktop/DJSCE/Projects/css_research/norm_elgamal\")\n",
    "from norm_elgamal import elgamal as norm_elg"
   ]
  },
  {
   "cell_type": "code",
   "execution_count": null,
   "id": "de71ebe0-f6bd-47aa-8ffc-133fc0c490d6",
   "metadata": {},
   "outputs": [],
   "source": [
    "wall_time, mem_use, cpu_use, power_consumed, similarity = [], [], [], [], []\n",
    "\n",
    "key_sizes = [1024, 2048, 3072, 4096]\n",
    "message_sizes = [\"1\", \"8\", \"64\", \"256\", \"512\"]\n",
    "messages = [\n",
    "    b\"At.\",\n",
    "    b\"Vivamus.\",\n",
    "    b\"Lorem ipsum dolor sit amet, consectetur adipiscing elit vivamus.\",\n",
    "    b\"Lorem ipsum dolor sit amet, consectetur adipiscing elit. Praesent eget dapibus elit, in suscipit felis. Etiam enim eros, euismod in sem vitae, porta mattis enim. Integer sed augue eu quam pulvinar semper id nec lorem. Nunc tristique nisi nec sem cras amet.\",\n",
    "    b\"Lorem ipsum dolor sit amet, consectetur adipiscing elit. Sed eu nibh accumsan, pretium lorem sed, fermentum eros. Proin mi massa, hendrerit et bibendum vel, pulvinar eu turpis. Donec vel gravida ipsum, in vehicula odio. Integer non mi tincidunt, pulvinar urna id, gravida ante. Nullam accumsan ac odio eget bibendum. Cras rhoncus turpis et orci imperdiet, facilisis facilisis purus dignissim. Cras pretium sapien sit amet velit condimentum eleifend. Vestibulum consequat metus neque, nec pretium ex tincidunt at.\",\n",
    "]"
   ]
  },
  {
   "cell_type": "markdown",
   "id": "f45070c0-4c13-4568-af8b-53b0e722f4e3",
   "metadata": {},
   "source": [
    "<br>"
   ]
  },
  {
   "cell_type": "markdown",
   "id": "1b1ac7ed-5d46-497f-9700-c560e60f041b",
   "metadata": {},
   "source": [
    "## Testing Helper Functions"
   ]
  },
  {
   "cell_type": "code",
   "execution_count": null,
   "id": "ea98bb17-dc82-402d-b4a9-7dc831e37ac7",
   "metadata": {},
   "outputs": [],
   "source": [
    "def doNothing(tp_time):\n",
    "    time.sleep(tp_time)"
   ]
  },
  {
   "cell_type": "code",
   "execution_count": null,
   "id": "3155ab83-d33a-4be2-9a4f-3c7a0b86d53d",
   "metadata": {},
   "outputs": [],
   "source": [
    "# Similarity Matching using Damerau Levenshtein Distance\n",
    "def textSimilarity(s1, s2):\n",
    "    d = {}\n",
    "    lenstr1 = len(s1)\n",
    "    lenstr2 = len(s2)\n",
    "\n",
    "    for i in range(-1, lenstr1 + 1):\n",
    "        d[(i, -1)] = i + 1\n",
    "\n",
    "    for j in range(-1, lenstr2 + 1):\n",
    "        d[(-1, j)] = j + 1\n",
    "\n",
    "    for i in range(lenstr1):\n",
    "        for j in range(lenstr2):\n",
    "            if s1[i] == s2[j]:\n",
    "                cost = 0\n",
    "            else:\n",
    "                cost = 1\n",
    "\n",
    "            d[(i, j)] = min(\n",
    "                d[(i - 1, j)] + 1,  # deletion\n",
    "                d[(i, j - 1)] + 1,  # insertion\n",
    "                d[(i - 1, j - 1)] + cost,  # substitution\n",
    "            )\n",
    "\n",
    "            if i and j and s1[i] == s2[j - 1] and s1[i - 1] == s2[j]:\n",
    "                d[(i, j)] = min(d[(i, j)], d[i - 2, j - 2] + cost)  # transposition\n",
    "\n",
    "    return round(1 - ((d[lenstr1-1,lenstr2-1])/(lenstr1 if lenstr1 > lenstr2 else lenstr2)), 4)"
   ]
  },
  {
   "cell_type": "code",
   "execution_count": null,
   "id": "a365c344-1126-44eb-9c5f-c2173b5846b6",
   "metadata": {},
   "outputs": [],
   "source": [
    "def drawGraph(graph_vals: list, key_size: int, save_path: Path, test_param: str, y_val=\"\") -> None:\n",
    "    \"\"\"\n",
    "    Plots graph for function.\n",
    "\n",
    "    Parameter\n",
    "    ----------\n",
    "    graph_vals : list\n",
    "        Measurement values\n",
    "    key_size : int\n",
    "        Size of key\n",
    "    save_path : pathlib.Path\n",
    "        Location to save graph image\n",
    "    test_param : str\n",
    "        Name of parameter tested\n",
    "    \"\"\"\n",
    "    fig = px.Figure([px.Bar(x=message_sizes, y=graph_vals, text=graph_vals, textposition='auto')])\n",
    "    fig.update_layout(\n",
    "    title=f\"{test_param}: {key_size} bit key\",\n",
    "    xaxis_title=\"Key Size(in bits)\",\n",
    "    yaxis_title=y_val,\n",
    "    marker_color=['deepskyblue', 'cornflowerblue', 'royalblue', 'mediumblue', 'navy'],\n",
    "    )\n",
    "\n",
    "    fig.show()\n",
    "    \n",
    "    fig.write_image(f\"{save_path}/{test_param}_{key_size}.png\")"
   ]
  },
  {
   "cell_type": "code",
   "execution_count": null,
   "id": "43fd98f1-a262-4b87-9faf-1d4f69fbabf9",
   "metadata": {},
   "outputs": [],
   "source": [
    "def benchCode(benchFunc, *args):\n",
    "    \"\"\"\n",
    "    Generalized code for benchmarking cryptographic functions.\n",
    "\n",
    "    Parameter\n",
    "    ----------\n",
    "    benchFunc : function\n",
    "        The function to be benchmarked.\n",
    "    \"\"\"\n",
    "    curr_time = %timeit -r 5 -o -q -c -p 5 benchFunc(*args)\n",
    "    \n",
    "    doNothing(5)\n",
    "    curr_mem = psutil.Process().memory_info().rss / (1024 * 1024)\n",
    "    \n",
    "    doNothing(5)\n",
    "    curr_cpu_use = psutil.getloadavg()[0] / psutil.cpu_count() * 100\n",
    "    \n",
    "    meter.start(tag='foo')\n",
    "    doNothing(5)\n",
    "    meter.record(tag='bar')\n",
    "    benchFunc(*args)\n",
    "    meter.stop()\n",
    "    curr_power = meter.get_trace()\n",
    "    \n",
    "    doNothing(5)\n",
    "    plain_text, cipher_text = benchFunc(*args)\n",
    "    plain_cipher_sim = textSimilarity(str(plain_text), str(cipher_text))\n",
    "    \n",
    "    wall_time.append(round(curr_time.average, 3))\n",
    "    mem_use.append(round(curr_mem, 3))\n",
    "    cpu_use.append(round(curr_cpu_use, 3)) \n",
    "    power_consumed.append(curr_power) Please check which value to append\n",
    "    similarity.append(round((plain_cipher_sim*10), 3))"
   ]
  },
  {
   "cell_type": "markdown",
   "id": "a28fb672-df22-4fde-b370-c59e50e205d9",
   "metadata": {},
   "source": [
    "<br>"
   ]
  },
  {
   "cell_type": "markdown",
   "id": "14c7e35a-f3a0-484c-8fd4-d04ef6837d5b",
   "metadata": {},
   "source": [
    "## RSA with OAEP"
   ]
  },
  {
   "cell_type": "code",
   "execution_count": null,
   "id": "29fbecde-330d-42a5-9472-597815a01de7",
   "metadata": {},
   "outputs": [],
   "source": [
    "name = \"rsa/results\"\n",
    "\n",
    "try:\n",
    "    dir_path = path.joinpath(name)\n",
    "    dir_path.mkdir(parents=True, exist_ok=False)\n",
    "except FileExistsError:\n",
    "    pass"
   ]
  },
  {
   "cell_type": "code",
   "execution_count": null,
   "id": "d3ef51ea-53de-4a7b-998b-fe03fd7a3709",
   "metadata": {},
   "outputs": [],
   "source": [
    "for key in key_sizes:\n",
    "    del wall_time[:], mem_use[:], cpu_use[:], power_consumed[:], similarity[:] \n",
    "    for plain_text in messages:\n",
    "        try:\n",
    "            benchCode(rsa.caller, plain_text, key)\n",
    "        except (ValueError, OverflowError) as e:  # if it cannot encrypt put value as 0\n",
    "            print(e, key)\n",
    "            wall_time.append(0)\n",
    "            mem_use.append(0)\n",
    "            cpu_use.append(0) \n",
    "            power_consumed.append(0)\n",
    "            similarity.append(0)\n",
    "    \n",
    "    drawGraph(wall_time, key, dir_path, \"Execution Time\", \"seconds\")\n",
    "    drawGraph(mem_use, key, dir_path, \"Memory Used\", \"MB\")\n",
    "    drawGraph(cpu_use, key, dir_path, \"CPU Used\", \"% Used\")\n",
    "    drawGraph(power_consumed, key, dir_path, \"Power Consumed\")\n",
    "    drawGraph(similarity, key, dir_path, \"Plain and Cipher Text Similarity\", \"% Similar\")"
   ]
  },
  {
   "cell_type": "markdown",
   "id": "2fb80c00-aaf8-4abd-9910-f30375a33396",
   "metadata": {},
   "source": [
    "<br>"
   ]
  },
  {
   "cell_type": "markdown",
   "id": "25276580-f7fe-4822-b12f-676c9bd01be0",
   "metadata": {},
   "source": [
    "## Plain ElGamal"
   ]
  },
  {
   "cell_type": "code",
   "execution_count": null,
   "id": "997ad4e2-1e3a-47c0-b015-a8f263e49de1",
   "metadata": {},
   "outputs": [],
   "source": [
    "name = \"norm_elgamal/results\"\n",
    "\n",
    "try:\n",
    "    dir_path = path.joinpath(name)\n",
    "    dir_path.mkdir(parents=True, exist_ok=False)\n",
    "except FileExistsError:\n",
    "    pass"
   ]
  },
  {
   "cell_type": "code",
   "execution_count": null,
   "id": "87ac3fbe-df96-4ddb-9b75-697f5b771ce3",
   "metadata": {},
   "outputs": [],
   "source": [
    "for key in key_sizes:\n",
    "    del wall_time[:], mem_use[:], cpu_use[:], power_consumed[:], similarity[:] \n",
    "    for plain_text in messages:\n",
    "        try:\n",
    "            benchCode(norm_elg.caller, plain_text.decode(\"utf-8\"), key)\n",
    "        except (ValueError, OverflowError) as e:  # if it cannot encrypt put value as 0\n",
    "            print(e, key)\n",
    "            wall_time.append(0)\n",
    "            mem_use.append(0)\n",
    "            cpu_use.append(0) \n",
    "            power_consumed.append(0)\n",
    "            similarity.append(0)\n",
    "    \n",
    "    drawGraph(wall_time, key, dir_path, \"Execution Time\", \"seconds\")\n",
    "    drawGraph(mem_use, key, dir_path, \"Memory Used\", \"MB\")\n",
    "    drawGraph(cpu_use, key, dir_path, \"CPU Used\", \"% Used\")\n",
    "    drawGraph(power_consumed, key, dir_path, \"Power Consumed\")\n",
    "    drawGraph(similarity, key, dir_path, \"Plain and Cipher Text Similarity\", \"% Similar\")"
   ]
  },
  {
   "cell_type": "markdown",
   "id": "f8f414e5-fb3a-4e8d-9ec2-e4aa5c415bfa",
   "metadata": {},
   "source": [
    "<br>"
   ]
  },
  {
   "cell_type": "markdown",
   "id": "59c5355e-b947-4398-a939-7f907dd5bad0",
   "metadata": {},
   "source": [
    "## ECC ElGamal"
   ]
  },
  {
   "cell_type": "code",
   "execution_count": null,
   "id": "6bce9d28-5d2d-4092-b6ff-3d423357ba1a",
   "metadata": {},
   "outputs": [],
   "source": [
    "name = \"ecc_elgamal/results\"\n",
    "\n",
    "try:\n",
    "    dir_path = path.joinpath(name)\n",
    "    dir_path.mkdir(parents=True, exist_ok=False)\n",
    "except FileExistsError:\n",
    "    pass"
   ]
  },
  {
   "cell_type": "code",
   "execution_count": null,
   "id": "4db817e0-9ea1-4f1c-9222-34307bdc4316",
   "metadata": {},
   "outputs": [],
   "source": [
    "for key in (E222, E382, M383, P256, Curve25519, secp256k1):\n",
    "    del wall_time[:], mem_use[:], cpu_use[:], power_consumed[:], similarity[:] \n",
    "    for plain_text in messages:\n",
    "        try:\n",
    "            benchCode(ecc_elg.caller, plain_text, key)\n",
    "        except (ValueError, OverflowError) as e:  # if it cannot encrypt put value as 0\n",
    "            print(e, key)\n",
    "            wall_time.append(0)\n",
    "            mem_use.append(0)\n",
    "            cpu_use.append(0) \n",
    "            power_consumed.append(0)\n",
    "            similarity.append(0)\n",
    "\n",
    "    drawGraph(wall_time, str(key), dir_path, \"Execution Time\", \"seconds\")\n",
    "    drawGraph(mem_use, str(key), dir_path, \"Memory Used\", \"MB\")\n",
    "    drawGraph(cpu_use, str(key), dir_path, \"CPU Used\", \"% Used\")\n",
    "    drawGraph(power_consumed, str(key), dir_path, \"Power Consumed\")\n",
    "    drawGraph(similarity, str(key), dir_path, \"Plain and Cipher Text Similarity\", \"% Similar\")"
   ]
  }
 ],
 "metadata": {
  "kernelspec": {
   "display_name": "Python 3 (ipykernel)",
   "language": "python",
   "name": "python3"
  },
  "language_info": {
   "codemirror_mode": {
    "name": "ipython",
    "version": 3
   },
   "file_extension": ".py",
   "mimetype": "text/x-python",
   "name": "python",
   "nbconvert_exporter": "python",
   "pygments_lexer": "ipython3",
   "version": "3.9.9"
  }
 },
 "nbformat": 4,
 "nbformat_minor": 5
}
